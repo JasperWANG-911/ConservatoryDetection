{
 "cells": [
  {
   "cell_type": "code",
   "id": "initial_id",
   "metadata": {
    "collapsed": true
   },
   "source": [
    "from ultralytics import YOLO\n",
    "import os\n",
    "import numpy as np"
   ],
   "outputs": [],
   "execution_count": null
  },
  {
   "metadata": {},
   "cell_type": "code",
   "source": [
    "model = YOLO(\"yolo11n-seg.pt\")\n",
    "\n",
    "# Train the model\n",
    "results = model.train(data=\"Training/v1i.yolov11/data.yaml\", epochs=100, imgsz=640)"
   ],
   "id": "e421174e1e49a27d",
   "outputs": [],
   "execution_count": null
  },
  {
   "metadata": {},
   "cell_type": "code",
   "source": [
    "# Create folders for results\n",
    "output_folder_v11 = \"output_folder_v11\"\n",
    "os.makedirs(output_folder_v11, exist_ok=True)\n",
    "\n",
    "\n",
    "model_v11 = YOLO('train/weights/best.pt')\n",
    "\n",
    "file_count = len(os.listdir('test images'))\n",
    "\n",
    "# objective detection with YOLOv11\n",
    "for i in range(1, file_count):\n",
    "\n",
    "    # objective detection\n",
    "    file_path = os.path.join('test images', f'image{i}.png')\n",
    "    result_v11 = model_v11(file_path)\n",
    "\n",
    "    # save results to output_folder\n",
    "    for j, pred in enumerate(result_v11):\n",
    "\n",
    "        boxes = pred.boxes\n",
    "        scores = boxes.conf.cpu().numpy()\n",
    "        valid_indices = np.where(scores > 0.5)[0]  # Only keep those with confidence > 0.5(this number can be modified)\n",
    "\n",
    "        if len(valid_indices) > 0:\n",
    "            save_path = os.path.join(output_folder_v11, f\"result_v11_{i}.png\")\n",
    "            pred.plot()\n",
    "            pred.save(save_path)"
   ],
   "id": "d681e52d958c5f1f",
   "outputs": [
    {
     "name": "stdout",
     "output_type": "stream",
     "text": [
      "image 1/1 /Users/wangyinghao/Library/Mobile Documents/com~apple~CloudDocs/Planarific - Model Training/test images/image79.png: 640x640 (no detections), 71.3ms\n",
      "Speed: 2.5ms preprocess, 71.3ms inference, 0.2ms postprocess per image at shape (1, 3, 640, 640)\n"
     ]
    }
   ],
   "execution_count": 18
  }
 ],
 "metadata": {
  "kernelspec": {
   "display_name": "Python 3",
   "language": "python",
   "name": "python3"
  },
  "language_info": {
   "codemirror_mode": {
    "name": "ipython",
    "version": 2
   },
   "file_extension": ".py",
   "mimetype": "text/x-python",
   "name": "python",
   "nbconvert_exporter": "python",
   "pygments_lexer": "ipython2",
   "version": "2.7.6"
  }
 },
 "nbformat": 4,
 "nbformat_minor": 5
}
